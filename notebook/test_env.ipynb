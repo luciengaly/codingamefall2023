{
 "cells": [
  {
   "cell_type": "code",
   "execution_count": null,
   "metadata": {},
   "outputs": [],
   "source": [
    "import importlib\n",
    "import game\n",
    "from gymnasium.wrappers import NormalizeObservation\n"
   ]
  },
  {
   "cell_type": "code",
   "execution_count": null,
   "metadata": {},
   "outputs": [],
   "source": [
    "class myAgent:\n",
    "    def __init__(self) -> None:\n",
    "        pass\n",
    "    \n",
    "    def move(self, observation, action_space):\n",
    "        action = action_space.sample()\n",
    "        return action\n"
   ]
  },
  {
   "cell_type": "code",
   "execution_count": null,
   "metadata": {},
   "outputs": [],
   "source": [
    "importlib.reload(game)\n",
    "env = game.Game()\n",
    "env = NormalizeObservation(env)\n",
    "print(env.observation_space.shape)\n",
    "print(env.action_space.n)\n",
    "# env = FlattenObservation(env)\n",
    "# print(env.observation_space.shape)\n",
    "my_agent = myAgent()\n",
    "observation = env.reset(seed=42)\n",
    "# print(f\"{observation=}\")\n",
    "# env.render()\n",
    "done = False\n",
    "# print(f\"{env.game_turn=}\")\n",
    "# env.render(observation)\n",
    "# pprint.pprint(f\"{observation=}\")\n",
    "# print()\n",
    "\n",
    "while not done:\n",
    "    action = my_agent.move(observation, env.action_space)\n",
    "    # print(f\"{action=}\")\n",
    "    observation, reward, done, info = env.step(action)\n",
    "    # print(f\"{observation=}\")\n",
    "    env.render()\n",
    "    print(f\"{reward=}\")\n",
    "    # print(f\"{done=}\")\n",
    "    # print(f\"Info: \\n{info}\")\n",
    "    if env.game_turn == 200:\n",
    "        break\n",
    "\n"
   ]
  },
  {
   "cell_type": "code",
   "execution_count": null,
   "metadata": {},
   "outputs": [],
   "source": []
  }
 ],
 "metadata": {
  "kernelspec": {
   "display_name": "venv310",
   "language": "python",
   "name": "python3"
  },
  "language_info": {
   "codemirror_mode": {
    "name": "ipython",
    "version": 3
   },
   "file_extension": ".py",
   "mimetype": "text/x-python",
   "name": "python",
   "nbconvert_exporter": "python",
   "pygments_lexer": "ipython3",
   "version": "3.10.11"
  }
 },
 "nbformat": 4,
 "nbformat_minor": 2
}
